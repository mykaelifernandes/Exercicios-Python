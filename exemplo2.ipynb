{
  "nbformat": 4,
  "nbformat_minor": 0,
  "metadata": {
    "colab": {
      "name": "exemplo2.ipynb",
      "provenance": [],
      "authorship_tag": "ABX9TyNHIUGw1tFhIiJCzdhPS+9s"
    },
    "kernelspec": {
      "name": "python3",
      "display_name": "Python 3"
    },
    "language_info": {
      "name": "python"
    }
  },
  "cells": [
    {
      "cell_type": "code",
      "source": [
        "karol= {\n",
        "    \"nome\": \"karol\",\n",
        "    \"profissao\": \"Analista de Marketing\" ,\n",
        "    \"data_nascimento\": \"20/03/1980\"\n",
        "}\n",
        "\n",
        "joao= {\n",
        "    \"nome\": \"joao\",\n",
        "    \"profissao\": \"UIx Designer\",\n",
        "    \"data_nascimento\": \"10/10/1989\"\n",
        "}\n",
        "\n",
        "funcionarios= [karol, joao]"
      ],
      "metadata": {
        "id": "idEkvV9erIiP"
      },
      "execution_count": 8,
      "outputs": []
    },
    {
      "cell_type": "code",
      "source": [
        "funcionarios [1] "
      ],
      "metadata": {
        "colab": {
          "base_uri": "https://localhost:8080/"
        },
        "id": "Rlr6gYxhsr2r",
        "outputId": "2ffd887f-43e7-4471-be82-562cd9eefe15"
      },
      "execution_count": 10,
      "outputs": [
        {
          "output_type": "execute_result",
          "data": {
            "text/plain": [
              "{'data_nascimento': '10/10/1989', 'nome': 'joao', 'profissao': 'UIx Designer'}"
            ]
          },
          "metadata": {},
          "execution_count": 10
        }
      ]
    },
    {
      "cell_type": "code",
      "source": [
        "funcionarios [1] [\"nome\"]"
      ],
      "metadata": {
        "colab": {
          "base_uri": "https://localhost:8080/",
          "height": 36
        },
        "id": "LR6iYMputbrB",
        "outputId": "d4f0a6e5-bbb4-4bb8-d6a6-d6b88a6fc65f"
      },
      "execution_count": 12,
      "outputs": [
        {
          "output_type": "execute_result",
          "data": {
            "text/plain": [
              "'joao'"
            ],
            "application/vnd.google.colaboratory.intrinsic+json": {
              "type": "string"
            }
          },
          "metadata": {},
          "execution_count": 12
        }
      ]
    },
    {
      "cell_type": "code",
      "source": [
        "funcionarios [0]"
      ],
      "metadata": {
        "colab": {
          "base_uri": "https://localhost:8080/"
        },
        "id": "97nCuwkOtm82",
        "outputId": "ca72a2b7-ec5b-4b3b-f101-ed2fcaf831c6"
      },
      "execution_count": 13,
      "outputs": [
        {
          "output_type": "execute_result",
          "data": {
            "text/plain": [
              "{'data_nascimento': '20/03/1980',\n",
              " 'nome': 'karol',\n",
              " 'profissao': 'Analista de Marketing'}"
            ]
          },
          "metadata": {},
          "execution_count": 13
        }
      ]
    },
    {
      "cell_type": "code",
      "source": [
        "funcionarios [0] [\"profissao\"]"
      ],
      "metadata": {
        "colab": {
          "base_uri": "https://localhost:8080/",
          "height": 36
        },
        "id": "ExHAbShHtrFE",
        "outputId": "231d02d2-a5dc-49c8-e0e2-45c3e9e7f9b7"
      },
      "execution_count": 14,
      "outputs": [
        {
          "output_type": "execute_result",
          "data": {
            "text/plain": [
              "'Analista de Marketing'"
            ],
            "application/vnd.google.colaboratory.intrinsic+json": {
              "type": "string"
            }
          },
          "metadata": {},
          "execution_count": 14
        }
      ]
    }
  ]
}