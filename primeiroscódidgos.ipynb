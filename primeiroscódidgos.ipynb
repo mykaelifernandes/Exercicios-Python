{
  "nbformat": 4,
  "nbformat_minor": 0,
  "metadata": {
    "colab": {
      "name": "primeiroscódidgos.ipynb",
      "provenance": [],
      "collapsed_sections": [],
      "authorship_tag": "ABX9TyOghkmwnsLqdssMI2l2kppc",
      "include_colab_link": true
    },
    "kernelspec": {
      "name": "python3",
      "display_name": "Python 3"
    },
    "language_info": {
      "name": "python"
    }
  },
  "cells": [
    {
      "cell_type": "markdown",
      "metadata": {
        "id": "view-in-github",
        "colab_type": "text"
      },
      "source": [
        "<a href=\"https://colab.research.google.com/github/mykaelifernandes/Exercicios-Python/blob/main/primeirosc%C3%B3didgos.ipynb\" target=\"_parent\"><img src=\"https://colab.research.google.com/assets/colab-badge.svg\" alt=\"Open In Colab\"/></a>"
      ]
    },
    {
      "cell_type": "code",
      "execution_count": 1,
      "metadata": {
        "colab": {
          "base_uri": "https://localhost:8080/"
        },
        "id": "OB6htueCTUMS",
        "outputId": "627ea9aa-cf4a-4d9f-e848-5f0f43288cd6"
      },
      "outputs": [
        {
          "output_type": "stream",
          "name": "stdout",
          "text": [
            "Hello word!\n"
          ]
        }
      ],
      "source": [
        "#primeiro código\n",
        "print (\"Hello word!\")"
      ]
    },
    {
      "cell_type": "code",
      "source": [
        "#testando subtração\n",
        "20 - 2 "
      ],
      "metadata": {
        "colab": {
          "base_uri": "https://localhost:8080/"
        },
        "id": "uTzzgic_Wmsd",
        "outputId": "7d501f70-800e-4da0-938c-25e277d0d7ec"
      },
      "execution_count": 5,
      "outputs": [
        {
          "output_type": "execute_result",
          "data": {
            "text/plain": [
              "18"
            ]
          },
          "metadata": {},
          "execution_count": 5
        }
      ]
    },
    {
      "cell_type": "code",
      "source": [
        "#testando multiplicação\n",
        "100* 200\n"
      ],
      "metadata": {
        "colab": {
          "base_uri": "https://localhost:8080/"
        },
        "id": "phEQCijQZ9yG",
        "outputId": "45d2c71c-7d39-4aeb-aeca-09f5fafa0a39"
      },
      "execution_count": 9,
      "outputs": [
        {
          "output_type": "execute_result",
          "data": {
            "text/plain": [
              "20000"
            ]
          },
          "metadata": {},
          "execution_count": 9
        }
      ]
    },
    {
      "cell_type": "markdown",
      "source": [
        "# Nova seção"
      ],
      "metadata": {
        "id": "5OUDysYJi1ze"
      }
    },
    {
      "cell_type": "code",
      "source": [
        "#testando ordens com uma lista de compras\n",
        "lista_de_compras = [ 'Maçã' ,'Queijo' , 'Ovos' , 'Refrigerante']\n",
        "\n",
        "lista_de_compras[2]"
      ],
      "metadata": {
        "colab": {
          "base_uri": "https://localhost:8080/",
          "height": 36
        },
        "id": "PpU1NovaaDMb",
        "outputId": "a9510c1b-06c3-42f7-a33d-bb2ad013749e"
      },
      "execution_count": 8,
      "outputs": [
        {
          "output_type": "execute_result",
          "data": {
            "text/plain": [
              "'Ovos'"
            ],
            "application/vnd.google.colaboratory.intrinsic+json": {
              "type": "string"
            }
          },
          "metadata": {},
          "execution_count": 8
        }
      ]
    }
  ]
}