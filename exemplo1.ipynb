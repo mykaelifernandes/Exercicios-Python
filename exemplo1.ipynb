{
  "nbformat": 4,
  "nbformat_minor": 0,
  "metadata": {
    "colab": {
      "name": "exemplo1.ipynb",
      "provenance": [],
      "authorship_tag": "ABX9TyM4f9r4zh3sPax0OWfhHeib"
    },
    "kernelspec": {
      "name": "python3",
      "display_name": "Python 3"
    },
    "language_info": {
      "name": "python"
    }
  },
  "cells": [
    {
      "cell_type": "code",
      "execution_count": 3,
      "metadata": {
        "id": "m17PkWS4hVPO"
      },
      "outputs": [],
      "source": [
        "caneca = {\n",
        "  #descrição de uma caneca\n",
        "  #tamanho em ml\n",
        "  'tamanho': 300, \n",
        "  'cor': 'preta',\n",
        "  'estampa': False\n",
        "}"
      ]
    },
    {
      "cell_type": "code",
      "source": [
        "caneca['cor']"
      ],
      "metadata": {
        "colab": {
          "base_uri": "https://localhost:8080/",
          "height": 36
        },
        "id": "qZsZ39kohbEo",
        "outputId": "c74c0b88-f708-40dd-ce5b-4e8aee0fd416"
      },
      "execution_count": 4,
      "outputs": [
        {
          "output_type": "execute_result",
          "data": {
            "text/plain": [
              "'preta'"
            ],
            "application/vnd.google.colaboratory.intrinsic+json": {
              "type": "string"
            }
          },
          "metadata": {},
          "execution_count": 4
        }
      ]
    }
  ]
}