{
  "nbformat": 4,
  "nbformat_minor": 0,
  "metadata": {
    "colab": {
      "name": "funcoes.ipynb",
      "provenance": [],
      "collapsed_sections": [],
      "authorship_tag": "ABX9TyPJjM//QPPp2yqQUIo6CBcb"
    },
    "kernelspec": {
      "name": "python3",
      "display_name": "Python 3"
    },
    "language_info": {
      "name": "python"
    }
  },
  "cells": [
    {
      "cell_type": "code",
      "source": [
        "def soma(x, y):\n",
        "  return x + y \n",
        "\n",
        "soma(1,3)"
      ],
      "metadata": {
        "id": "7nUlJfWHf--3",
        "colab": {
          "base_uri": "https://localhost:8080/"
        },
        "outputId": "f5c77003-fd90-44db-eff4-0e7b359518bf"
      },
      "execution_count": 11,
      "outputs": [
        {
          "output_type": "execute_result",
          "data": {
            "text/plain": [
              "4"
            ]
          },
          "metadata": {},
          "execution_count": 11
        }
      ]
    },
    {
      "cell_type": "code",
      "source": [
        "pessoa = {\"nome\": \"Carlos\", \"cpf\": \"12309737811\"}\n",
        "outra_pessoa = {\"nome\": \"Janaina\", \"cpf\": \"12309676587\"}\n",
        "\n",
        "def imprimir_cpf(pessoa):\n",
        "  print(pessoa[\"cpf\"])\n",
        "  print(outra_pessoa[\"cpf\"])\n",
        "\n",
        "imprimir_cpf(pessoa)\n"
      ],
      "metadata": {
        "id": "kjaQgR_rgbBd",
        "colab": {
          "base_uri": "https://localhost:8080/"
        },
        "outputId": "7535bdf2-dd17-4f2f-8e47-4168331f34d1"
      },
      "execution_count": 23,
      "outputs": [
        {
          "output_type": "stream",
          "name": "stdout",
          "text": [
            "12309737811\n"
          ]
        }
      ]
    },
    {
      "cell_type": "code",
      "source": [
        "lista_compras = [\"maça\" , \"banana\" ,\"ovos\" , \"farinha\" , \"leite\"]\n",
        "\n",
        "def imprimir_item(item):\n",
        "  print(\"Seu item é \" + item)\n",
        "\n",
        "for item in lista_compras:\n",
        " imprimir_item(item)"
      ],
      "metadata": {
        "colab": {
          "base_uri": "https://localhost:8080/"
        },
        "id": "owsS97wEyfNg",
        "outputId": "773a4377-f2f0-4617-e8d6-be32868b6f31"
      },
      "execution_count": 28,
      "outputs": [
        {
          "output_type": "stream",
          "name": "stdout",
          "text": [
            "Seu item é maça\n",
            "Seu item é banana\n",
            "Seu item é ovos\n",
            "Seu item é farinha\n",
            "Seu item é leite\n"
          ]
        }
      ]
    }
  ]
}