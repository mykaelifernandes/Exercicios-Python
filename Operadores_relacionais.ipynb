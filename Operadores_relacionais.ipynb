{
  "nbformat": 4,
  "nbformat_minor": 0,
  "metadata": {
    "colab": {
      "name": "Operadores-relacionais.ipynb",
      "provenance": [],
      "authorship_tag": "ABX9TyOo82xHo2UCLcVVLOIRbNql",
      "include_colab_link": true
    },
    "kernelspec": {
      "name": "python3",
      "display_name": "Python 3"
    },
    "language_info": {
      "name": "python"
    }
  },
  "cells": [
    {
      "cell_type": "markdown",
      "metadata": {
        "id": "view-in-github",
        "colab_type": "text"
      },
      "source": [
        "<a href=\"https://colab.research.google.com/github/mykaelifernandes/Exercicios-Python/blob/main/Operadores_relacionais.ipynb\" target=\"_parent\"><img src=\"https://colab.research.google.com/assets/colab-badge.svg\" alt=\"Open In Colab\"/></a>"
      ]
    },
    {
      "cell_type": "code",
      "source": [
        "#maior que \n",
        "3 > 2"
      ],
      "metadata": {
        "id": "FEeRxhEjagjd"
      },
      "execution_count": null,
      "outputs": []
    },
    {
      "cell_type": "code",
      "source": [
        "#menor que \n",
        "3 < 2"
      ],
      "metadata": {
        "id": "aaQ5kxXtasu9"
      },
      "execution_count": null,
      "outputs": []
    },
    {
      "cell_type": "code",
      "source": [
        "#maior ou igual a \n",
        "3 >= 2"
      ],
      "metadata": {
        "id": "nu4et1hPa1hA"
      },
      "execution_count": null,
      "outputs": []
    },
    {
      "cell_type": "code",
      "source": [
        "#menor ou igual a \n",
        "3 <= 2"
      ],
      "metadata": {
        "id": "wyis9gMSa9sf"
      },
      "execution_count": null,
      "outputs": []
    },
    {
      "cell_type": "code",
      "source": [
        "#igual\n",
        "\"laranja\" == \"laranja\""
      ],
      "metadata": {
        "id": "0eZtMh_RbYXg"
      },
      "execution_count": null,
      "outputs": []
    },
    {
      "cell_type": "code",
      "source": [
        "#diferente de \n",
        "3 != 2"
      ],
      "metadata": {
        "id": "TK6c3w84bmza"
      },
      "execution_count": null,
      "outputs": []
    }
  ]
}