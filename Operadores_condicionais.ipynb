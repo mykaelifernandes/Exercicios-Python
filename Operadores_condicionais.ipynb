{
  "nbformat": 4,
  "nbformat_minor": 0,
  "metadata": {
    "colab": {
      "name": "Operadores-condicionais.ipynb",
      "provenance": [],
      "authorship_tag": "ABX9TyNKZvpX0sFJEfy3uAX0ahJ5"
    },
    "kernelspec": {
      "name": "python3",
      "display_name": "Python 3"
    },
    "language_info": {
      "name": "python"
    }
  },
  "cells": [
    {
      "cell_type": "code",
      "source": [
        "pessoa = {\"nome\": \"João\", \"adimplente\": False}\n",
        "\n",
        "if (pessoa [\"adimplente\"]):\n",
        "  print(\"Pode receber empréstimo\")\n",
        "else:\n",
        "  print(\"Não pode receber empréstimo\")"
      ],
      "metadata": {
        "colab": {
          "base_uri": "https://localhost:8080/"
        },
        "id": "tZa0FLZ6cqIE",
        "outputId": "09c258a7-1dc1-4968-e514-8465cbcae4b0"
      },
      "execution_count": 4,
      "outputs": [
        {
          "output_type": "stream",
          "name": "stdout",
          "text": [
            "Não pode receber empréstimo\n"
          ]
        }
      ]
    },
    {
      "cell_type": "code",
      "source": [
        "pessoa = {\"nome\": \"João\",\"adimplente\": False, \"salario\": 6000, \"score\": 900}\n",
        "\n",
        "if (pessoa [\"adimplente\"]):\n",
        "  print(\"Pode receber empréstimo\")\n",
        "else:\n",
        "  if(pessoa[\"salario\"] >= 5000 and pessoa [\"score\"] > 850):\n",
        "    print(\"Pode receber o empréstimo\")\n",
        "  else:\n",
        "      print(\"Não pode receber o empréstimo\")\n"
      ],
      "metadata": {
        "id": "-rehIQhAeoz3"
      },
      "execution_count": null,
      "outputs": []
    },
    {
      "cell_type": "code",
      "source": [
        "pessoa = {\"nome\": \"Cleide\",\"autonoma\": True,\"possui comprovante de renda\": True, \"renda mensal\": 500}\n",
        "\n",
        "if (pessoa [\"autonoma\"] and [\"possui comprovante de renda\"]):\n",
        "   print(\"Pode receber empréstimo no valor de 1.000 reais\")\n",
        "else:\n",
        "   print(\"Não pode receber o empréstimo, somente com comprovante de renda mensal.\")\n",
        "  \n",
        "  "
      ],
      "metadata": {
        "colab": {
          "base_uri": "https://localhost:8080/"
        },
        "id": "PodlzktThjKO",
        "outputId": "c93fe35b-9407-4479-da50-78e5f27227a7"
      },
      "execution_count": 31,
      "outputs": [
        {
          "output_type": "stream",
          "name": "stdout",
          "text": [
            "Pode receber empréstimo no valor de 1.000 reais\n"
          ]
        }
      ]
    }
  ]
}